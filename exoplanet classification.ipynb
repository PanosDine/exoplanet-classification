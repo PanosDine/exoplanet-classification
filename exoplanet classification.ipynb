{
 "cells": [
  {
   "cell_type": "code",
   "execution_count": 1,
   "metadata": {},
   "outputs": [
    {
     "name": "stderr",
     "output_type": "stream",
     "text": [
      "D:\\Anaconda\\lib\\site-packages\\sklearn\\ensemble\\weight_boosting.py:29: DeprecationWarning: numpy.core.umath_tests is an internal NumPy module and should not be imported. It will be removed in a future NumPy release.\n",
      "  from numpy.core.umath_tests import inner1d\n"
     ]
    }
   ],
   "source": [
    "# get necessary libraries\n",
    "import numpy as np\n",
    "import pandas as pd\n",
    "import matplotlib.pyplot as plt\n",
    "import matplotlib.cm as cm\n",
    "\n",
    "from sklearn.metrics import precision_recall_curve\n",
    "from sklearn.metrics import f1_score\n",
    "from sklearn.metrics import precision_score, recall_score\n",
    "from sklearn.model_selection import cross_val_predict\n",
    "from sklearn.metrics import confusion_matrix\n",
    "from sklearn.model_selection import cross_val_score\n",
    "from sklearn.feature_extraction.text import TfidfVectorizer\n",
    "from sklearn import linear_model as lm\n",
    "from sklearn import preprocessing as pp\n",
    "from sklearn.linear_model import LogisticRegression\n",
    "from sklearn.ensemble import RandomForestClassifier\n",
    "from sklearn.linear_model import Perceptron\n",
    "from sklearn.linear_model import SGDClassifier\n",
    "from sklearn.tree import DecisionTreeClassifier\n",
    "from sklearn.neighbors import KNeighborsClassifier\n",
    "from sklearn.svm import SVC, LinearSVC\n",
    "from sklearn.naive_bayes import GaussianNB"
   ]
  },
  {
   "cell_type": "code",
   "execution_count": 2,
   "metadata": {},
   "outputs": [
    {
     "data": {
      "text/html": [
       "<div>\n",
       "<style scoped>\n",
       "    .dataframe tbody tr th:only-of-type {\n",
       "        vertical-align: middle;\n",
       "    }\n",
       "\n",
       "    .dataframe tbody tr th {\n",
       "        vertical-align: top;\n",
       "    }\n",
       "\n",
       "    .dataframe thead th {\n",
       "        text-align: right;\n",
       "    }\n",
       "</style>\n",
       "<table border=\"1\" class=\"dataframe\">\n",
       "  <thead>\n",
       "    <tr style=\"text-align: right;\">\n",
       "      <th></th>\n",
       "      <th>PlanetIdentifier</th>\n",
       "      <th>TypeFlag</th>\n",
       "      <th>PlanetaryMassJpt</th>\n",
       "      <th>RadiusJpt</th>\n",
       "      <th>PeriodDays</th>\n",
       "      <th>SemiMajorAxisAU</th>\n",
       "      <th>Eccentricity</th>\n",
       "      <th>PeriastronDeg</th>\n",
       "      <th>LongitudeDeg</th>\n",
       "      <th>AscendingNodeDeg</th>\n",
       "      <th>...</th>\n",
       "      <th>DiscoveryYear</th>\n",
       "      <th>LastUpdated</th>\n",
       "      <th>RightAscension</th>\n",
       "      <th>Declination</th>\n",
       "      <th>DistFromSunParsec</th>\n",
       "      <th>HostStarMassSlrMass</th>\n",
       "      <th>HostStarRadiusSlrRad</th>\n",
       "      <th>HostStarMetallicity</th>\n",
       "      <th>HostStarTempK</th>\n",
       "      <th>HostStarAgeGyr</th>\n",
       "    </tr>\n",
       "  </thead>\n",
       "  <tbody>\n",
       "    <tr>\n",
       "      <th>0</th>\n",
       "      <td>KOI-1843.03</td>\n",
       "      <td>0</td>\n",
       "      <td>0.0014</td>\n",
       "      <td>0.054</td>\n",
       "      <td>0.176891</td>\n",
       "      <td>0.0048</td>\n",
       "      <td>NaN</td>\n",
       "      <td>NaN</td>\n",
       "      <td>NaN</td>\n",
       "      <td>NaN</td>\n",
       "      <td>...</td>\n",
       "      <td>2012.0</td>\n",
       "      <td>13/07/15</td>\n",
       "      <td>19 00 03.14</td>\n",
       "      <td>+40 13 14.7</td>\n",
       "      <td>NaN</td>\n",
       "      <td>0.46</td>\n",
       "      <td>0.45</td>\n",
       "      <td>0.00</td>\n",
       "      <td>3584.0</td>\n",
       "      <td>NaN</td>\n",
       "    </tr>\n",
       "    <tr>\n",
       "      <th>1</th>\n",
       "      <td>KOI-1843.01</td>\n",
       "      <td>0</td>\n",
       "      <td>NaN</td>\n",
       "      <td>0.114</td>\n",
       "      <td>4.194525</td>\n",
       "      <td>0.0390</td>\n",
       "      <td>NaN</td>\n",
       "      <td>NaN</td>\n",
       "      <td>NaN</td>\n",
       "      <td>NaN</td>\n",
       "      <td>...</td>\n",
       "      <td>NaN</td>\n",
       "      <td>NaN</td>\n",
       "      <td>19 00 03.14</td>\n",
       "      <td>+40 13 14.7</td>\n",
       "      <td>NaN</td>\n",
       "      <td>0.46</td>\n",
       "      <td>0.45</td>\n",
       "      <td>0.00</td>\n",
       "      <td>3584.0</td>\n",
       "      <td>NaN</td>\n",
       "    </tr>\n",
       "    <tr>\n",
       "      <th>2</th>\n",
       "      <td>KOI-1843.02</td>\n",
       "      <td>0</td>\n",
       "      <td>NaN</td>\n",
       "      <td>0.071</td>\n",
       "      <td>6.356006</td>\n",
       "      <td>0.0520</td>\n",
       "      <td>NaN</td>\n",
       "      <td>NaN</td>\n",
       "      <td>NaN</td>\n",
       "      <td>NaN</td>\n",
       "      <td>...</td>\n",
       "      <td>NaN</td>\n",
       "      <td>NaN</td>\n",
       "      <td>19 00 03.14</td>\n",
       "      <td>+40 13 14.7</td>\n",
       "      <td>NaN</td>\n",
       "      <td>0.46</td>\n",
       "      <td>0.45</td>\n",
       "      <td>0.00</td>\n",
       "      <td>3584.0</td>\n",
       "      <td>NaN</td>\n",
       "    </tr>\n",
       "    <tr>\n",
       "      <th>3</th>\n",
       "      <td>Kepler-9 b</td>\n",
       "      <td>0</td>\n",
       "      <td>0.2500</td>\n",
       "      <td>0.840</td>\n",
       "      <td>19.224180</td>\n",
       "      <td>0.1430</td>\n",
       "      <td>0.0626</td>\n",
       "      <td>NaN</td>\n",
       "      <td>NaN</td>\n",
       "      <td>NaN</td>\n",
       "      <td>...</td>\n",
       "      <td>2010.0</td>\n",
       "      <td>15/12/03</td>\n",
       "      <td>19 02 17</td>\n",
       "      <td>+38 24 03</td>\n",
       "      <td>650.0</td>\n",
       "      <td>1.07</td>\n",
       "      <td>1.02</td>\n",
       "      <td>0.12</td>\n",
       "      <td>5777.0</td>\n",
       "      <td>NaN</td>\n",
       "    </tr>\n",
       "    <tr>\n",
       "      <th>4</th>\n",
       "      <td>Kepler-9 c</td>\n",
       "      <td>0</td>\n",
       "      <td>0.1700</td>\n",
       "      <td>0.820</td>\n",
       "      <td>39.031060</td>\n",
       "      <td>0.2290</td>\n",
       "      <td>0.0684</td>\n",
       "      <td>NaN</td>\n",
       "      <td>NaN</td>\n",
       "      <td>NaN</td>\n",
       "      <td>...</td>\n",
       "      <td>2010.0</td>\n",
       "      <td>15/12/03</td>\n",
       "      <td>19 02 17</td>\n",
       "      <td>+38 24 03</td>\n",
       "      <td>650.0</td>\n",
       "      <td>1.07</td>\n",
       "      <td>1.02</td>\n",
       "      <td>0.12</td>\n",
       "      <td>5777.0</td>\n",
       "      <td>NaN</td>\n",
       "    </tr>\n",
       "  </tbody>\n",
       "</table>\n",
       "<p>5 rows × 24 columns</p>\n",
       "</div>"
      ],
      "text/plain": [
       "  PlanetIdentifier  TypeFlag  PlanetaryMassJpt  RadiusJpt  PeriodDays  \\\n",
       "0      KOI-1843.03         0            0.0014      0.054    0.176891   \n",
       "1      KOI-1843.01         0               NaN      0.114    4.194525   \n",
       "2      KOI-1843.02         0               NaN      0.071    6.356006   \n",
       "3       Kepler-9 b         0            0.2500      0.840   19.224180   \n",
       "4       Kepler-9 c         0            0.1700      0.820   39.031060   \n",
       "\n",
       "   SemiMajorAxisAU  Eccentricity  PeriastronDeg  LongitudeDeg  \\\n",
       "0           0.0048           NaN            NaN           NaN   \n",
       "1           0.0390           NaN            NaN           NaN   \n",
       "2           0.0520           NaN            NaN           NaN   \n",
       "3           0.1430        0.0626            NaN           NaN   \n",
       "4           0.2290        0.0684            NaN           NaN   \n",
       "\n",
       "   AscendingNodeDeg       ...        DiscoveryYear  LastUpdated  \\\n",
       "0               NaN       ...               2012.0     13/07/15   \n",
       "1               NaN       ...                  NaN          NaN   \n",
       "2               NaN       ...                  NaN          NaN   \n",
       "3               NaN       ...               2010.0     15/12/03   \n",
       "4               NaN       ...               2010.0     15/12/03   \n",
       "\n",
       "   RightAscension  Declination  DistFromSunParsec HostStarMassSlrMass  \\\n",
       "0     19 00 03.14  +40 13 14.7                NaN                0.46   \n",
       "1     19 00 03.14  +40 13 14.7                NaN                0.46   \n",
       "2     19 00 03.14  +40 13 14.7                NaN                0.46   \n",
       "3        19 02 17    +38 24 03              650.0                1.07   \n",
       "4        19 02 17    +38 24 03              650.0                1.07   \n",
       "\n",
       "  HostStarRadiusSlrRad HostStarMetallicity  HostStarTempK  HostStarAgeGyr  \n",
       "0                 0.45                0.00         3584.0             NaN  \n",
       "1                 0.45                0.00         3584.0             NaN  \n",
       "2                 0.45                0.00         3584.0             NaN  \n",
       "3                 1.02                0.12         5777.0             NaN  \n",
       "4                 1.02                0.12         5777.0             NaN  \n",
       "\n",
       "[5 rows x 24 columns]"
      ]
     },
     "execution_count": 2,
     "metadata": {},
     "output_type": "execute_result"
    }
   ],
   "source": [
    "#read the data and view first 5 rows\n",
    "data = pd.read_csv('Downloads\\oec.csv')\n",
    "data.head()"
   ]
  },
  {
   "cell_type": "code",
   "execution_count": 3,
   "metadata": {},
   "outputs": [
    {
     "data": {
      "text/plain": [
       "(3426, 24)"
      ]
     },
     "execution_count": 3,
     "metadata": {},
     "output_type": "execute_result"
    }
   ],
   "source": [
    "data.shape"
   ]
  },
  {
   "cell_type": "code",
   "execution_count": 4,
   "metadata": {},
   "outputs": [
    {
     "name": "stdout",
     "output_type": "stream",
     "text": [
      "<class 'pandas.core.frame.DataFrame'>\n",
      "RangeIndex: 3426 entries, 0 to 3425\n",
      "Data columns (total 24 columns):\n",
      "PlanetIdentifier        3426 non-null object\n",
      "TypeFlag                3426 non-null int64\n",
      "PlanetaryMassJpt        1176 non-null float64\n",
      "RadiusJpt               2670 non-null float64\n",
      "PeriodDays              3341 non-null float64\n",
      "SemiMajorAxisAU         1271 non-null float64\n",
      "Eccentricity            1003 non-null float64\n",
      "PeriastronDeg           295 non-null float64\n",
      "LongitudeDeg            39 non-null float64\n",
      "AscendingNodeDeg        46 non-null float64\n",
      "InclinationDeg          568 non-null float64\n",
      "SurfaceTempK            733 non-null float64\n",
      "AgeGyr                  1 non-null float64\n",
      "DiscoveryMethod         3416 non-null object\n",
      "DiscoveryYear           3416 non-null float64\n",
      "LastUpdated             3418 non-null object\n",
      "RightAscension          3416 non-null object\n",
      "Declination             3416 non-null object\n",
      "DistFromSunParsec       2018 non-null float64\n",
      "HostStarMassSlrMass     3262 non-null float64\n",
      "HostStarRadiusSlrRad    3131 non-null float64\n",
      "HostStarMetallicity     2380 non-null float64\n",
      "HostStarTempK           3311 non-null float64\n",
      "HostStarAgeGyr          424 non-null float64\n",
      "dtypes: float64(18), int64(1), object(5)\n",
      "memory usage: 642.5+ KB\n"
     ]
    }
   ],
   "source": [
    "data.info() #here we can see how many missing values we have for each attribute"
   ]
  },
  {
   "cell_type": "markdown",
   "metadata": {},
   "source": [
    "Here I have to decide how to deal with missing values. One idea is to use some prior knowledge. My first thought is that a planet's mass and radius are correlated, so I will test that. I will do the same with stars."
   ]
  },
  {
   "cell_type": "code",
   "execution_count": 5,
   "metadata": {},
   "outputs": [],
   "source": [
    "#we select the attributes we want to focus on, mostly those with few missing values\n",
    "attributes = ['PlanetIdentifier', 'TypeFlag', 'PlanetaryMassJpt', \n",
    "              'RadiusJpt', 'PeriodDays', 'SemiMajorAxisAU', 'Eccentricity', 'DistFromSunParsec',\n",
    "              'HostStarMassSlrMass', 'HostStarRadiusSlrRad'] \n",
    "\n",
    "#we're gonna use these 2 attributes to find out if there is correlation between a planet's mass and radius\n",
    "planetAttributes = ['PlanetaryMassJpt','RadiusJpt'] \n",
    "\n",
    "#same with stars\n",
    "starAttributes = ['HostStarMassSlrMass', 'HostStarRadiusSlrRad']"
   ]
  },
  {
   "cell_type": "code",
   "execution_count": 6,
   "metadata": {},
   "outputs": [
    {
     "name": "stdout",
     "output_type": "stream",
     "text": [
      "<class 'pandas.core.frame.DataFrame'>\n",
      "Int64Index: 435 entries, 0 to 3419\n",
      "Data columns (total 2 columns):\n",
      "PlanetaryMassJpt    435 non-null float64\n",
      "RadiusJpt           435 non-null float64\n",
      "dtypes: float64(2)\n",
      "memory usage: 10.2 KB\n"
     ]
    }
   ],
   "source": [
    "planetData = data[planetAttributes].dropna() #we select the not-na entries for planets\n",
    "\n",
    "planetData.info() #that gives us 435 rows"
   ]
  },
  {
   "cell_type": "code",
   "execution_count": 7,
   "metadata": {},
   "outputs": [
    {
     "name": "stdout",
     "output_type": "stream",
     "text": [
      "<class 'pandas.core.frame.DataFrame'>\n",
      "Int64Index: 3039 entries, 0 to 3425\n",
      "Data columns (total 2 columns):\n",
      "HostStarMassSlrMass     3039 non-null float64\n",
      "HostStarRadiusSlrRad    3039 non-null float64\n",
      "dtypes: float64(2)\n",
      "memory usage: 71.2 KB\n"
     ]
    }
   ],
   "source": [
    "starData = data[starAttributes].dropna() #same with stars, but we get way more rows\n",
    "\n",
    "starData.info()"
   ]
  },
  {
   "cell_type": "code",
   "execution_count": 8,
   "metadata": {},
   "outputs": [
    {
     "data": {
      "text/plain": [
       "Text(0, 0.5, 'Planet Radius(Jupiter Radius)')"
      ]
     },
     "execution_count": 8,
     "metadata": {},
     "output_type": "execute_result"
    },
    {
     "data": {
      "image/png": "[encoded data removed]",
      "text/plain": [
       "<Figure size 432x288 with 1 Axes>"
      ]
     },
     "metadata": {
      "needs_background": "light"
     },
     "output_type": "display_data"
    }
   ],
   "source": [
    "x1 = planetData['PlanetaryMassJpt'] \n",
    "y1 = planetData['RadiusJpt']\n",
    "\n",
    "plt.scatter(x1,y1) #testing my intuition that a planet's mass and radius are strongly correlated by looking at a scatter plot\n",
    "plt.xlabel('Planet Mass(Jupiter Mass)')\n",
    "plt.ylabel('Planet Radius(Jupiter Radius)')"
   ]
  },
  {
   "cell_type": "code",
   "execution_count": 9,
   "metadata": {},
   "outputs": [
    {
     "data": {
      "text/plain": [
       "0.09504722523461462"
      ]
     },
     "execution_count": 9,
     "metadata": {},
     "output_type": "execute_result"
    }
   ],
   "source": [
    "# I also use linear regression to get an exact number (0 means no correlation, 1 means perfect correlation)\n",
    "planetmodel = lm.LinearRegression()\n",
    "planetmodel.fit(planetData.PlanetaryMassJpt.values.reshape(-1,1), planetData.RadiusJpt.values.reshape(-1,1))\n",
    "planetmodel.score(planetData.PlanetaryMassJpt.values.reshape(-1,1), planetData.RadiusJpt.values.reshape(-1,1))"
   ]
  },
  {
   "cell_type": "markdown",
   "metadata": {},
   "source": [
    "Turns out that a planet's mass and radius are not strongly correlated"
   ]
  },
  {
   "cell_type": "code",
   "execution_count": 10,
   "metadata": {},
   "outputs": [
    {
     "data": {
      "text/plain": [
       "Text(0, 0.5, 'Star Radius(Solar Radius)')"
      ]
     },
     "execution_count": 10,
     "metadata": {},
     "output_type": "execute_result"
    },
    {
     "data": {
      "image/png": "[encoded data removed]",
      "text/plain": [
       "<Figure size 432x288 with 1 Axes>"
      ]
     },
     "metadata": {
      "needs_background": "light"
     },
     "output_type": "display_data"
    }
   ],
   "source": [
    "x2 = starData['HostStarMassSlrMass']\n",
    "y2 = starData['HostStarRadiusSlrRad']\n",
    "\n",
    "plt.scatter(x2,y2) #same with stars\n",
    "plt.xlabel('Star Mass(Solar mass)')\n",
    "plt.ylabel('Star Radius(Solar Radius)')"
   ]
  },
  {
   "cell_type": "markdown",
   "metadata": {},
   "source": [
    "While there are spots where it indicates there is a correlation, it is not as strong as we would like. We are going to use regression to get an exact measure of correlation:"
   ]
  },
  {
   "cell_type": "code",
   "execution_count": 11,
   "metadata": {},
   "outputs": [
    {
     "data": {
      "text/plain": [
       "0.1973954319481086"
      ]
     },
     "execution_count": 11,
     "metadata": {},
     "output_type": "execute_result"
    }
   ],
   "source": [
    "starmodel = lm.LinearRegression()\n",
    "starmodel.fit(starData.HostStarMassSlrMass.values.reshape(-1,1), starData.HostStarRadiusSlrRad.values.reshape(-1,1))\n",
    "starmodel.score(starData.HostStarMassSlrMass.values.reshape(-1,1), starData.HostStarRadiusSlrRad.values.reshape(-1,1))"
   ]
  },
  {
   "cell_type": "markdown",
   "metadata": {},
   "source": [
    "We can safely conclude that in both cases, mass and radius are not strongly correlated. In this case, we can either drop all rows with missing values, or we can use the average of the column to replace them with. We will do the latter."
   ]
  },
  {
   "cell_type": "markdown",
   "metadata": {},
   "source": [
    "#  Pre-processing"
   ]
  },
  {
   "cell_type": "code",
   "execution_count": 12,
   "metadata": {},
   "outputs": [],
   "source": [
    "newData = data.fillna(data.mean())"
   ]
  },
  {
   "cell_type": "code",
   "execution_count": 13,
   "metadata": {},
   "outputs": [
    {
     "name": "stdout",
     "output_type": "stream",
     "text": [
      "<class 'pandas.core.frame.DataFrame'>\n",
      "RangeIndex: 3426 entries, 0 to 3425\n",
      "Data columns (total 24 columns):\n",
      "PlanetIdentifier        3426 non-null object\n",
      "TypeFlag                3426 non-null int64\n",
      "PlanetaryMassJpt        3426 non-null float64\n",
      "RadiusJpt               3426 non-null float64\n",
      "PeriodDays              3426 non-null float64\n",
      "SemiMajorAxisAU         3426 non-null float64\n",
      "Eccentricity            3426 non-null float64\n",
      "PeriastronDeg           3426 non-null float64\n",
      "LongitudeDeg            3426 non-null float64\n",
      "AscendingNodeDeg        3426 non-null float64\n",
      "InclinationDeg          3426 non-null float64\n",
      "SurfaceTempK            3426 non-null float64\n",
      "AgeGyr                  3426 non-null float64\n",
      "DiscoveryMethod         3416 non-null object\n",
      "DiscoveryYear           3426 non-null float64\n",
      "LastUpdated             3418 non-null object\n",
      "RightAscension          3416 non-null object\n",
      "Declination             3416 non-null object\n",
      "DistFromSunParsec       3426 non-null float64\n",
      "HostStarMassSlrMass     3426 non-null float64\n",
      "HostStarRadiusSlrRad    3426 non-null float64\n",
      "HostStarMetallicity     3426 non-null float64\n",
      "HostStarTempK           3426 non-null float64\n",
      "HostStarAgeGyr          3426 non-null float64\n",
      "dtypes: float64(18), int64(1), object(5)\n",
      "memory usage: 642.5+ KB\n"
     ]
    }
   ],
   "source": [
    "# now we have values for all \n",
    "newData.info()"
   ]
  },
  {
   "cell_type": "code",
   "execution_count": 14,
   "metadata": {},
   "outputs": [
    {
     "data": {
      "text/html": [
       "<div>\n",
       "<style scoped>\n",
       "    .dataframe tbody tr th:only-of-type {\n",
       "        vertical-align: middle;\n",
       "    }\n",
       "\n",
       "    .dataframe tbody tr th {\n",
       "        vertical-align: top;\n",
       "    }\n",
       "\n",
       "    .dataframe thead th {\n",
       "        text-align: right;\n",
       "    }\n",
       "</style>\n",
       "<table border=\"1\" class=\"dataframe\">\n",
       "  <thead>\n",
       "    <tr style=\"text-align: right;\">\n",
       "      <th></th>\n",
       "      <th>TypeFlag</th>\n",
       "      <th>PlanetaryMassJpt</th>\n",
       "      <th>RadiusJpt</th>\n",
       "      <th>PeriodDays</th>\n",
       "      <th>SemiMajorAxisAU</th>\n",
       "      <th>Eccentricity</th>\n",
       "      <th>PeriastronDeg</th>\n",
       "      <th>LongitudeDeg</th>\n",
       "      <th>AscendingNodeDeg</th>\n",
       "      <th>InclinationDeg</th>\n",
       "      <th>SurfaceTempK</th>\n",
       "      <th>AgeGyr</th>\n",
       "      <th>DiscoveryYear</th>\n",
       "      <th>DistFromSunParsec</th>\n",
       "      <th>HostStarMassSlrMass</th>\n",
       "      <th>HostStarRadiusSlrRad</th>\n",
       "      <th>HostStarMetallicity</th>\n",
       "      <th>HostStarTempK</th>\n",
       "      <th>HostStarAgeGyr</th>\n",
       "    </tr>\n",
       "  </thead>\n",
       "  <tbody>\n",
       "    <tr>\n",
       "      <th>count</th>\n",
       "      <td>3426.000000</td>\n",
       "      <td>3426.000000</td>\n",
       "      <td>3426.000000</td>\n",
       "      <td>3426.000000</td>\n",
       "      <td>3426.000000</td>\n",
       "      <td>3426.000000</td>\n",
       "      <td>3426.000000</td>\n",
       "      <td>3426.000000</td>\n",
       "      <td>3426.000000</td>\n",
       "      <td>3426.000000</td>\n",
       "      <td>3426.000000</td>\n",
       "      <td>3.426000e+03</td>\n",
       "      <td>3426.000000</td>\n",
       "      <td>3426.000000</td>\n",
       "      <td>3426.000000</td>\n",
       "      <td>3426.000000</td>\n",
       "      <td>3426.000000</td>\n",
       "      <td>3426.000000</td>\n",
       "      <td>3426.000000</td>\n",
       "    </tr>\n",
       "    <tr>\n",
       "      <th>mean</th>\n",
       "      <td>0.098657</td>\n",
       "      <td>2.939151</td>\n",
       "      <td>0.347422</td>\n",
       "      <td>550.487202</td>\n",
       "      <td>1.410090</td>\n",
       "      <td>0.169331</td>\n",
       "      <td>147.296127</td>\n",
       "      <td>145.124011</td>\n",
       "      <td>90.624476</td>\n",
       "      <td>82.336692</td>\n",
       "      <td>865.544748</td>\n",
       "      <td>5.500000e-03</td>\n",
       "      <td>2013.179450</td>\n",
       "      <td>549.986784</td>\n",
       "      <td>0.981646</td>\n",
       "      <td>1.488426</td>\n",
       "      <td>0.014637</td>\n",
       "      <td>5510.861552</td>\n",
       "      <td>4.629284</td>\n",
       "    </tr>\n",
       "    <tr>\n",
       "      <th>std</th>\n",
       "      <td>0.425691</td>\n",
       "      <td>6.138908</td>\n",
       "      <td>0.345273</td>\n",
       "      <td>7572.481012</td>\n",
       "      <td>3.967928</td>\n",
       "      <td>0.104439</td>\n",
       "      <td>34.801301</td>\n",
       "      <td>13.499063</td>\n",
       "      <td>10.665540</td>\n",
       "      <td>9.379098</td>\n",
       "      <td>310.145709</td>\n",
       "      <td>2.602465e-17</td>\n",
       "      <td>6.259101</td>\n",
       "      <td>616.452170</td>\n",
       "      <td>0.304873</td>\n",
       "      <td>2.959168</td>\n",
       "      <td>0.160674</td>\n",
       "      <td>1191.448899</td>\n",
       "      <td>1.154477</td>\n",
       "    </tr>\n",
       "    <tr>\n",
       "      <th>min</th>\n",
       "      <td>0.000000</td>\n",
       "      <td>0.000008</td>\n",
       "      <td>0.002300</td>\n",
       "      <td>0.090706</td>\n",
       "      <td>0.004420</td>\n",
       "      <td>0.000000</td>\n",
       "      <td>-233.000000</td>\n",
       "      <td>-174.640000</td>\n",
       "      <td>-5.112604</td>\n",
       "      <td>-0.000543</td>\n",
       "      <td>102.200000</td>\n",
       "      <td>5.500000e-03</td>\n",
       "      <td>1781.000000</td>\n",
       "      <td>1.341700</td>\n",
       "      <td>0.012000</td>\n",
       "      <td>0.000014</td>\n",
       "      <td>-2.090000</td>\n",
       "      <td>540.000000</td>\n",
       "      <td>0.002200</td>\n",
       "    </tr>\n",
       "    <tr>\n",
       "      <th>25%</th>\n",
       "      <td>0.000000</td>\n",
       "      <td>2.292500</td>\n",
       "      <td>0.154940</td>\n",
       "      <td>5.068135</td>\n",
       "      <td>0.871250</td>\n",
       "      <td>0.169331</td>\n",
       "      <td>147.296127</td>\n",
       "      <td>145.124011</td>\n",
       "      <td>90.624476</td>\n",
       "      <td>82.336692</td>\n",
       "      <td>865.544748</td>\n",
       "      <td>5.500000e-03</td>\n",
       "      <td>2012.000000</td>\n",
       "      <td>241.740000</td>\n",
       "      <td>0.840000</td>\n",
       "      <td>0.826000</td>\n",
       "      <td>-0.010000</td>\n",
       "      <td>5148.000000</td>\n",
       "      <td>4.629284</td>\n",
       "    </tr>\n",
       "    <tr>\n",
       "      <th>50%</th>\n",
       "      <td>0.000000</td>\n",
       "      <td>2.939151</td>\n",
       "      <td>0.245650</td>\n",
       "      <td>14.017238</td>\n",
       "      <td>1.410090</td>\n",
       "      <td>0.169331</td>\n",
       "      <td>147.296127</td>\n",
       "      <td>145.124011</td>\n",
       "      <td>90.624476</td>\n",
       "      <td>82.336692</td>\n",
       "      <td>865.544748</td>\n",
       "      <td>5.500000e-03</td>\n",
       "      <td>2014.000000</td>\n",
       "      <td>549.986784</td>\n",
       "      <td>0.981646</td>\n",
       "      <td>1.020000</td>\n",
       "      <td>0.014637</td>\n",
       "      <td>5602.500000</td>\n",
       "      <td>4.629284</td>\n",
       "    </tr>\n",
       "    <tr>\n",
       "      <th>75%</th>\n",
       "      <td>0.000000</td>\n",
       "      <td>2.939151</td>\n",
       "      <td>0.347422</td>\n",
       "      <td>56.667278</td>\n",
       "      <td>1.410090</td>\n",
       "      <td>0.169331</td>\n",
       "      <td>147.296127</td>\n",
       "      <td>145.124011</td>\n",
       "      <td>90.624476</td>\n",
       "      <td>82.336692</td>\n",
       "      <td>865.544748</td>\n",
       "      <td>5.500000e-03</td>\n",
       "      <td>2016.000000</td>\n",
       "      <td>549.986784</td>\n",
       "      <td>1.090000</td>\n",
       "      <td>1.359750</td>\n",
       "      <td>0.050000</td>\n",
       "      <td>5930.500000</td>\n",
       "      <td>4.629284</td>\n",
       "    </tr>\n",
       "    <tr>\n",
       "      <th>max</th>\n",
       "      <td>3.000000</td>\n",
       "      <td>263.000000</td>\n",
       "      <td>6.000000</td>\n",
       "      <td>320000.000000</td>\n",
       "      <td>177.000000</td>\n",
       "      <td>0.956000</td>\n",
       "      <td>791.000000</td>\n",
       "      <td>333.000000</td>\n",
       "      <td>320.800000</td>\n",
       "      <td>305.000000</td>\n",
       "      <td>7112.000000</td>\n",
       "      <td>5.500000e-03</td>\n",
       "      <td>2016.000000</td>\n",
       "      <td>8500.000000</td>\n",
       "      <td>4.500000</td>\n",
       "      <td>51.100000</td>\n",
       "      <td>0.560000</td>\n",
       "      <td>29300.000000</td>\n",
       "      <td>13.900000</td>\n",
       "    </tr>\n",
       "  </tbody>\n",
       "</table>\n",
       "</div>"
      ],
      "text/plain": [
       "          TypeFlag  PlanetaryMassJpt    RadiusJpt     PeriodDays  \\\n",
       "count  3426.000000       3426.000000  3426.000000    3426.000000   \n",
       "mean      0.098657          2.939151     0.347422     550.487202   \n",
       "std       0.425691          6.138908     0.345273    7572.481012   \n",
       "min       0.000000          0.000008     0.002300       0.090706   \n",
       "25%       0.000000          2.292500     0.154940       5.068135   \n",
       "50%       0.000000          2.939151     0.245650      14.017238   \n",
       "75%       0.000000          2.939151     0.347422      56.667278   \n",
       "max       3.000000        263.000000     6.000000  320000.000000   \n",
       "\n",
       "       SemiMajorAxisAU  Eccentricity  PeriastronDeg  LongitudeDeg  \\\n",
       "count      3426.000000   3426.000000    3426.000000   3426.000000   \n",
       "mean          1.410090      0.169331     147.296127    145.124011   \n",
       "std           3.967928      0.104439      34.801301     13.499063   \n",
       "min           0.004420      0.000000    -233.000000   -174.640000   \n",
       "25%           0.871250      0.169331     147.296127    145.124011   \n",
       "50%           1.410090      0.169331     147.296127    145.124011   \n",
       "75%           1.410090      0.169331     147.296127    145.124011   \n",
       "max         177.000000      0.956000     791.000000    333.000000   \n",
       "\n",
       "       AscendingNodeDeg  InclinationDeg  SurfaceTempK        AgeGyr  \\\n",
       "count       3426.000000     3426.000000   3426.000000  3.426000e+03   \n",
       "mean          90.624476       82.336692    865.544748  5.500000e-03   \n",
       "std           10.665540        9.379098    310.145709  2.602465e-17   \n",
       "min           -5.112604       -0.000543    102.200000  5.500000e-03   \n",
       "25%           90.624476       82.336692    865.544748  5.500000e-03   \n",
       "50%           90.624476       82.336692    865.544748  5.500000e-03   \n",
       "75%           90.624476       82.336692    865.544748  5.500000e-03   \n",
       "max          320.800000      305.000000   7112.000000  5.500000e-03   \n",
       "\n",
       "       DiscoveryYear  DistFromSunParsec  HostStarMassSlrMass  \\\n",
       "count    3426.000000        3426.000000          3426.000000   \n",
       "mean     2013.179450         549.986784             0.981646   \n",
       "std         6.259101         616.452170             0.304873   \n",
       "min      1781.000000           1.341700             0.012000   \n",
       "25%      2012.000000         241.740000             0.840000   \n",
       "50%      2014.000000         549.986784             0.981646   \n",
       "75%      2016.000000         549.986784             1.090000   \n",
       "max      2016.000000        8500.000000             4.500000   \n",
       "\n",
       "       HostStarRadiusSlrRad  HostStarMetallicity  HostStarTempK  \\\n",
       "count           3426.000000          3426.000000    3426.000000   \n",
       "mean               1.488426             0.014637    5510.861552   \n",
       "std                2.959168             0.160674    1191.448899   \n",
       "min                0.000014            -2.090000     540.000000   \n",
       "25%                0.826000            -0.010000    5148.000000   \n",
       "50%                1.020000             0.014637    5602.500000   \n",
       "75%                1.359750             0.050000    5930.500000   \n",
       "max               51.100000             0.560000   29300.000000   \n",
       "\n",
       "       HostStarAgeGyr  \n",
       "count     3426.000000  \n",
       "mean         4.629284  \n",
       "std          1.154477  \n",
       "min          0.002200  \n",
       "25%          4.629284  \n",
       "50%          4.629284  \n",
       "75%          4.629284  \n",
       "max         13.900000  "
      ]
     },
     "execution_count": 14,
     "metadata": {},
     "output_type": "execute_result"
    }
   ],
   "source": [
    "newData.describe()"
   ]
  },
  {
   "cell_type": "code",
   "execution_count": 15,
   "metadata": {},
   "outputs": [],
   "source": [
    "# now we get the attributes we want to work with, and get rid of unneccesary ones, like discovery year\n",
    "newData = newData[attributes]"
   ]
  },
  {
   "cell_type": "code",
   "execution_count": 16,
   "metadata": {},
   "outputs": [
    {
     "data": {
      "text/plain": [
       "(2740, 10)"
      ]
     },
     "execution_count": 16,
     "metadata": {},
     "output_type": "execute_result"
    }
   ],
   "source": [
    "train_set = newData[:2740] #create a training and a testing set\n",
    "test_set = newData[2741:]\n",
    "train_set.shape #double check"
   ]
  },
  {
   "cell_type": "code",
   "execution_count": 17,
   "metadata": {},
   "outputs": [
    {
     "data": {
      "text/plain": [
       "(685, 10)"
      ]
     },
     "execution_count": 17,
     "metadata": {},
     "output_type": "execute_result"
    }
   ],
   "source": [
    "test_set.shape"
   ]
  },
  {
   "cell_type": "code",
   "execution_count": 18,
   "metadata": {},
   "outputs": [
    {
     "data": {
      "text/html": [
       "<div>\n",
       "<style scoped>\n",
       "    .dataframe tbody tr th:only-of-type {\n",
       "        vertical-align: middle;\n",
       "    }\n",
       "\n",
       "    .dataframe tbody tr th {\n",
       "        vertical-align: top;\n",
       "    }\n",
       "\n",
       "    .dataframe thead th {\n",
       "        text-align: right;\n",
       "    }\n",
       "</style>\n",
       "<table border=\"1\" class=\"dataframe\">\n",
       "  <thead>\n",
       "    <tr style=\"text-align: right;\">\n",
       "      <th></th>\n",
       "      <th>TypeFlag</th>\n",
       "      <th>PlanetaryMassJpt</th>\n",
       "      <th>RadiusJpt</th>\n",
       "      <th>PeriodDays</th>\n",
       "      <th>SemiMajorAxisAU</th>\n",
       "      <th>Eccentricity</th>\n",
       "      <th>DistFromSunParsec</th>\n",
       "      <th>HostStarMassSlrMass</th>\n",
       "      <th>HostStarRadiusSlrRad</th>\n",
       "    </tr>\n",
       "  </thead>\n",
       "  <tbody>\n",
       "    <tr>\n",
       "      <th>0</th>\n",
       "      <td>0</td>\n",
       "      <td>0.001400</td>\n",
       "      <td>0.054</td>\n",
       "      <td>0.176891</td>\n",
       "      <td>0.0048</td>\n",
       "      <td>0.169331</td>\n",
       "      <td>549.986784</td>\n",
       "      <td>0.46</td>\n",
       "      <td>0.45</td>\n",
       "    </tr>\n",
       "    <tr>\n",
       "      <th>1</th>\n",
       "      <td>0</td>\n",
       "      <td>2.939151</td>\n",
       "      <td>0.114</td>\n",
       "      <td>4.194525</td>\n",
       "      <td>0.0390</td>\n",
       "      <td>0.169331</td>\n",
       "      <td>549.986784</td>\n",
       "      <td>0.46</td>\n",
       "      <td>0.45</td>\n",
       "    </tr>\n",
       "    <tr>\n",
       "      <th>2</th>\n",
       "      <td>0</td>\n",
       "      <td>2.939151</td>\n",
       "      <td>0.071</td>\n",
       "      <td>6.356006</td>\n",
       "      <td>0.0520</td>\n",
       "      <td>0.169331</td>\n",
       "      <td>549.986784</td>\n",
       "      <td>0.46</td>\n",
       "      <td>0.45</td>\n",
       "    </tr>\n",
       "    <tr>\n",
       "      <th>3</th>\n",
       "      <td>0</td>\n",
       "      <td>0.250000</td>\n",
       "      <td>0.840</td>\n",
       "      <td>19.224180</td>\n",
       "      <td>0.1430</td>\n",
       "      <td>0.062600</td>\n",
       "      <td>650.000000</td>\n",
       "      <td>1.07</td>\n",
       "      <td>1.02</td>\n",
       "    </tr>\n",
       "    <tr>\n",
       "      <th>4</th>\n",
       "      <td>0</td>\n",
       "      <td>0.170000</td>\n",
       "      <td>0.820</td>\n",
       "      <td>39.031060</td>\n",
       "      <td>0.2290</td>\n",
       "      <td>0.068400</td>\n",
       "      <td>650.000000</td>\n",
       "      <td>1.07</td>\n",
       "      <td>1.02</td>\n",
       "    </tr>\n",
       "  </tbody>\n",
       "</table>\n",
       "</div>"
      ],
      "text/plain": [
       "   TypeFlag  PlanetaryMassJpt  RadiusJpt  PeriodDays  SemiMajorAxisAU  \\\n",
       "0         0          0.001400      0.054    0.176891           0.0048   \n",
       "1         0          2.939151      0.114    4.194525           0.0390   \n",
       "2         0          2.939151      0.071    6.356006           0.0520   \n",
       "3         0          0.250000      0.840   19.224180           0.1430   \n",
       "4         0          0.170000      0.820   39.031060           0.2290   \n",
       "\n",
       "   Eccentricity  DistFromSunParsec  HostStarMassSlrMass  HostStarRadiusSlrRad  \n",
       "0      0.169331         549.986784                 0.46                  0.45  \n",
       "1      0.169331         549.986784                 0.46                  0.45  \n",
       "2      0.169331         549.986784                 0.46                  0.45  \n",
       "3      0.062600         650.000000                 1.07                  1.02  \n",
       "4      0.068400         650.000000                 1.07                  1.02  "
      ]
     },
     "execution_count": 18,
     "metadata": {},
     "output_type": "execute_result"
    }
   ],
   "source": [
    "train_set = train_set.drop(['PlanetIdentifier'], axis = 1) # this attribute does not contribute to the training, as it is just an ID column\n",
    "test_set = test_set.drop(['TypeFlag'], axis = 1) # we remove the target variable from the test set\n",
    "train_set.head()"
   ]
  },
  {
   "cell_type": "code",
   "execution_count": 19,
   "metadata": {},
   "outputs": [
    {
     "data": {
      "text/html": [
       "<div>\n",
       "<style scoped>\n",
       "    .dataframe tbody tr th:only-of-type {\n",
       "        vertical-align: middle;\n",
       "    }\n",
       "\n",
       "    .dataframe tbody tr th {\n",
       "        vertical-align: top;\n",
       "    }\n",
       "\n",
       "    .dataframe thead th {\n",
       "        text-align: right;\n",
       "    }\n",
       "</style>\n",
       "<table border=\"1\" class=\"dataframe\">\n",
       "  <thead>\n",
       "    <tr style=\"text-align: right;\">\n",
       "      <th></th>\n",
       "      <th>PlanetaryMassJpt</th>\n",
       "      <th>RadiusJpt</th>\n",
       "      <th>PeriodDays</th>\n",
       "      <th>SemiMajorAxisAU</th>\n",
       "      <th>Eccentricity</th>\n",
       "      <th>DistFromSunParsec</th>\n",
       "      <th>HostStarMassSlrMass</th>\n",
       "      <th>HostStarRadiusSlrRad</th>\n",
       "    </tr>\n",
       "  </thead>\n",
       "  <tbody>\n",
       "    <tr>\n",
       "      <th>2741</th>\n",
       "      <td>1.814000</td>\n",
       "      <td>0.347422</td>\n",
       "      <td>4205.800000</td>\n",
       "      <td>5.23500</td>\n",
       "      <td>0.098500</td>\n",
       "      <td>15.300000</td>\n",
       "      <td>1.08</td>\n",
       "      <td>1.245000</td>\n",
       "    </tr>\n",
       "    <tr>\n",
       "      <th>2742</th>\n",
       "      <td>2.939151</td>\n",
       "      <td>0.254000</td>\n",
       "      <td>51.079263</td>\n",
       "      <td>1.41009</td>\n",
       "      <td>0.169331</td>\n",
       "      <td>549.986784</td>\n",
       "      <td>1.04</td>\n",
       "      <td>1.050000</td>\n",
       "    </tr>\n",
       "    <tr>\n",
       "      <th>2743</th>\n",
       "      <td>2.939151</td>\n",
       "      <td>0.112000</td>\n",
       "      <td>3.709214</td>\n",
       "      <td>1.41009</td>\n",
       "      <td>0.169331</td>\n",
       "      <td>549.986784</td>\n",
       "      <td>1.04</td>\n",
       "      <td>1.050000</td>\n",
       "    </tr>\n",
       "    <tr>\n",
       "      <th>2744</th>\n",
       "      <td>0.066000</td>\n",
       "      <td>0.347422</td>\n",
       "      <td>550.487202</td>\n",
       "      <td>1.41009</td>\n",
       "      <td>0.169331</td>\n",
       "      <td>3300.000000</td>\n",
       "      <td>0.38</td>\n",
       "      <td>1.488426</td>\n",
       "    </tr>\n",
       "    <tr>\n",
       "      <th>2745</th>\n",
       "      <td>2.939151</td>\n",
       "      <td>0.207000</td>\n",
       "      <td>11.085076</td>\n",
       "      <td>1.41009</td>\n",
       "      <td>0.169331</td>\n",
       "      <td>549.986784</td>\n",
       "      <td>0.80</td>\n",
       "      <td>0.760000</td>\n",
       "    </tr>\n",
       "  </tbody>\n",
       "</table>\n",
       "</div>"
      ],
      "text/plain": [
       "      PlanetaryMassJpt  RadiusJpt   PeriodDays  SemiMajorAxisAU  Eccentricity  \\\n",
       "2741          1.814000   0.347422  4205.800000          5.23500      0.098500   \n",
       "2742          2.939151   0.254000    51.079263          1.41009      0.169331   \n",
       "2743          2.939151   0.112000     3.709214          1.41009      0.169331   \n",
       "2744          0.066000   0.347422   550.487202          1.41009      0.169331   \n",
       "2745          2.939151   0.207000    11.085076          1.41009      0.169331   \n",
       "\n",
       "      DistFromSunParsec  HostStarMassSlrMass  HostStarRadiusSlrRad  \n",
       "2741          15.300000                 1.08              1.245000  \n",
       "2742         549.986784                 1.04              1.050000  \n",
       "2743         549.986784                 1.04              1.050000  \n",
       "2744        3300.000000                 0.38              1.488426  \n",
       "2745         549.986784                 0.80              0.760000  "
      ]
     },
     "execution_count": 19,
     "metadata": {},
     "output_type": "execute_result"
    }
   ],
   "source": [
    "X_train = train_set.drop(\"TypeFlag\", axis=1) # we separate the target variable form the training set\n",
    "Y_train = train_set[\"TypeFlag\"]\n",
    "X_test  = test_set.drop(\"PlanetIdentifier\", axis=1).copy()\n",
    "X_test.head()"
   ]
  },
  {
   "cell_type": "markdown",
   "metadata": {},
   "source": [
    "And now we can try different classifiers"
   ]
  },
  {
   "cell_type": "code",
   "execution_count": 20,
   "metadata": {},
   "outputs": [
    {
     "name": "stdout",
     "output_type": "stream",
     "text": [
      "85.69 %\n"
     ]
    }
   ],
   "source": [
    "# stochastic gradient descent (SGD) learning\n",
    "sgd = lm.SGDClassifier(max_iter=5, tol=None)\n",
    "sgd.fit(X_train, Y_train)\n",
    "\n",
    "Y_pred = sgd.predict(X_test)\n",
    "\n",
    "sgd.score(X_train, Y_train)\n",
    "\n",
    "acc_sgd = round(sgd.score(X_train, Y_train) * 100, 2)\n",
    "\n",
    "\n",
    "print(round(acc_sgd,2,), \"%\")"
   ]
  },
  {
   "cell_type": "code",
   "execution_count": 21,
   "metadata": {},
   "outputs": [
    {
     "name": "stdout",
     "output_type": "stream",
     "text": [
      "100.0 %\n"
     ]
    }
   ],
   "source": [
    "# random forest\n",
    "random_forest = RandomForestClassifier(n_estimators=100)\n",
    "random_forest.fit(X_train, Y_train)\n",
    "\n",
    "Y_prediction = random_forest.predict(X_test)\n",
    "\n",
    "random_forest.score(X_train, Y_train)\n",
    "acc_random_forest = round(random_forest.score(X_train, Y_train) * 100, 2)\n",
    "print(round(acc_random_forest,2,), \"%\")"
   ]
  },
  {
   "cell_type": "code",
   "execution_count": 22,
   "metadata": {},
   "outputs": [
    {
     "name": "stdout",
     "output_type": "stream",
     "text": [
      "94.74 %\n"
     ]
    }
   ],
   "source": [
    "# logistic regression\n",
    "logreg = LogisticRegression()\n",
    "logreg.fit(X_train, Y_train)\n",
    "\n",
    "Y_pred = logreg.predict(X_test)\n",
    "\n",
    "acc_log = round(logreg.score(X_train, Y_train) * 100, 2)\n",
    "print(round(acc_log,2,), \"%\")"
   ]
  },
  {
   "cell_type": "code",
   "execution_count": 23,
   "metadata": {},
   "outputs": [
    {
     "name": "stdout",
     "output_type": "stream",
     "text": [
      "95.77 %\n"
     ]
    }
   ],
   "source": [
    "# KNN\n",
    "knn = KNeighborsClassifier(n_neighbors = 3)\n",
    "knn.fit(X_train, Y_train)\n",
    "\n",
    "Y_pred = knn.predict(X_test)\n",
    "\n",
    "acc_knn = round(knn.score(X_train, Y_train) * 100, 2)\n",
    "print(round(acc_knn,2,), \"%\")"
   ]
  },
  {
   "cell_type": "code",
   "execution_count": 24,
   "metadata": {},
   "outputs": [
    {
     "name": "stdout",
     "output_type": "stream",
     "text": [
      "92.74 %\n"
     ]
    }
   ],
   "source": [
    "# Gaussian Naive Bayes\n",
    "gaussian = GaussianNB()\n",
    "gaussian.fit(X_train, Y_train)\n",
    "\n",
    "Y_pred = gaussian.predict(X_test)\n",
    "\n",
    "acc_gaussian = round(gaussian.score(X_train, Y_train) * 100, 2)\n",
    "print(round(acc_gaussian,2,), \"%\")"
   ]
  },
  {
   "cell_type": "code",
   "execution_count": 25,
   "metadata": {},
   "outputs": [
    {
     "name": "stdout",
     "output_type": "stream",
     "text": [
      "94.85 %\n"
     ]
    }
   ],
   "source": [
    "# Perceptron\n",
    "perceptron = Perceptron(max_iter=5)\n",
    "perceptron.fit(X_train, Y_train)\n",
    "\n",
    "Y_pred = perceptron.predict(X_test)\n",
    "\n",
    "acc_perceptron = round(perceptron.score(X_train, Y_train) * 100, 2)\n",
    "print(round(acc_perceptron,2,), \"%\")"
   ]
  },
  {
   "cell_type": "code",
   "execution_count": 26,
   "metadata": {},
   "outputs": [
    {
     "name": "stdout",
     "output_type": "stream",
     "text": [
      "91.2 %\n"
     ]
    }
   ],
   "source": [
    "# Linear SVC\n",
    "linear_svc = LinearSVC()\n",
    "linear_svc.fit(X_train, Y_train)\n",
    "\n",
    "Y_pred = linear_svc.predict(X_test)\n",
    "\n",
    "acc_linear_svc = round(linear_svc.score(X_train, Y_train) * 100, 2)\n",
    "print(round(acc_linear_svc,2,), \"%\")"
   ]
  },
  {
   "cell_type": "code",
   "execution_count": 27,
   "metadata": {},
   "outputs": [
    {
     "name": "stdout",
     "output_type": "stream",
     "text": [
      "100.0 %\n"
     ]
    }
   ],
   "source": [
    "# Decision Tree\n",
    "decision_tree = DecisionTreeClassifier()\n",
    "decision_tree.fit(X_train, Y_train)\n",
    "\n",
    "Y_pred = decision_tree.predict(X_test)\n",
    "\n",
    "acc_decision_tree = round(decision_tree.score(X_train, Y_train) * 100, 2)\n",
    "print(round(acc_decision_tree,2,), \"%\")"
   ]
  },
  {
   "cell_type": "code",
   "execution_count": 28,
   "metadata": {},
   "outputs": [
    {
     "data": {
      "text/html": [
       "<div>\n",
       "<style scoped>\n",
       "    .dataframe tbody tr th:only-of-type {\n",
       "        vertical-align: middle;\n",
       "    }\n",
       "\n",
       "    .dataframe tbody tr th {\n",
       "        vertical-align: top;\n",
       "    }\n",
       "\n",
       "    .dataframe thead th {\n",
       "        text-align: right;\n",
       "    }\n",
       "</style>\n",
       "<table border=\"1\" class=\"dataframe\">\n",
       "  <thead>\n",
       "    <tr style=\"text-align: right;\">\n",
       "      <th></th>\n",
       "      <th>Model</th>\n",
       "    </tr>\n",
       "    <tr>\n",
       "      <th>Score</th>\n",
       "      <th></th>\n",
       "    </tr>\n",
       "  </thead>\n",
       "  <tbody>\n",
       "    <tr>\n",
       "      <th>100.00</th>\n",
       "      <td>Random Forest</td>\n",
       "    </tr>\n",
       "    <tr>\n",
       "      <th>100.00</th>\n",
       "      <td>Decision Tree</td>\n",
       "    </tr>\n",
       "    <tr>\n",
       "      <th>95.77</th>\n",
       "      <td>KNN</td>\n",
       "    </tr>\n",
       "    <tr>\n",
       "      <th>94.85</th>\n",
       "      <td>Perceptron</td>\n",
       "    </tr>\n",
       "    <tr>\n",
       "      <th>94.74</th>\n",
       "      <td>Logistic Regression</td>\n",
       "    </tr>\n",
       "    <tr>\n",
       "      <th>92.74</th>\n",
       "      <td>Naive Bayes</td>\n",
       "    </tr>\n",
       "    <tr>\n",
       "      <th>91.20</th>\n",
       "      <td>Support Vector Machines</td>\n",
       "    </tr>\n",
       "    <tr>\n",
       "      <th>85.69</th>\n",
       "      <td>Stochastic Gradient Decent</td>\n",
       "    </tr>\n",
       "  </tbody>\n",
       "</table>\n",
       "</div>"
      ],
      "text/plain": [
       "                             Model\n",
       "Score                             \n",
       "100.00               Random Forest\n",
       "100.00               Decision Tree\n",
       "95.77                          KNN\n",
       "94.85                   Perceptron\n",
       "94.74          Logistic Regression\n",
       "92.74                  Naive Bayes\n",
       "91.20      Support Vector Machines\n",
       "85.69   Stochastic Gradient Decent"
      ]
     },
     "execution_count": 28,
     "metadata": {},
     "output_type": "execute_result"
    }
   ],
   "source": [
    "# table of classification results\n",
    "results = pd.DataFrame({\n",
    "    'Model': ['Support Vector Machines', 'KNN', 'Logistic Regression', \n",
    "              'Random Forest', 'Naive Bayes', 'Perceptron', \n",
    "              'Stochastic Gradient Decent', \n",
    "              'Decision Tree'],\n",
    "    'Score': [acc_linear_svc, acc_knn, acc_log, \n",
    "              acc_random_forest, acc_gaussian, acc_perceptron, \n",
    "              acc_sgd, acc_decision_tree]})\n",
    "result_df = results.sort_values(by='Score', ascending=False)\n",
    "result_df = result_df.set_index('Score')\n",
    "result_df.head(9)"
   ]
  },
  {
   "cell_type": "markdown",
   "metadata": {},
   "source": [
    "Now we will try K-fold cross validation on the dataset, and see how the random forest classifier works there."
   ]
  },
  {
   "cell_type": "code",
   "execution_count": 29,
   "metadata": {},
   "outputs": [
    {
     "name": "stderr",
     "output_type": "stream",
     "text": [
      "D:\\Anaconda\\lib\\site-packages\\sklearn\\model_selection\\_split.py:605: Warning: The least populated class in y has only 2 members, which is too few. The minimum number of members in any class cannot be less than n_splits=10.\n",
      "  % (min_groups, self.n_splits)), Warning)\n"
     ]
    }
   ],
   "source": [
    "rf = RandomForestClassifier(n_estimators=100)\n",
    "scores = cross_val_score(rf, X_train, Y_train, cv=10, scoring = \"accuracy\")"
   ]
  },
  {
   "cell_type": "code",
   "execution_count": 30,
   "metadata": {},
   "outputs": [
    {
     "name": "stdout",
     "output_type": "stream",
     "text": [
      "Scores: [0.94202899 0.94927536 0.95272727 0.94890511 0.94890511 0.95255474\n",
      " 0.95970696 0.95238095 0.95970696 0.94852941]\n",
      "Mean: 0.9514720867616587\n",
      "Standard Deviation: 0.005050106746981076\n"
     ]
    }
   ],
   "source": [
    "print(\"Scores:\", scores)\n",
    "print(\"Mean:\", scores.mean())\n",
    "print(\"Standard Deviation:\", scores.std())"
   ]
  },
  {
   "cell_type": "markdown",
   "metadata": {},
   "source": [
    "The average accuracy of the model is 95%, and its deviation is miniscule, almost 0.01%"
   ]
  },
  {
   "cell_type": "markdown",
   "metadata": {},
   "source": [
    "Now we will illustrate the attributes and their importance to the classification results"
   ]
  },
  {
   "cell_type": "code",
   "execution_count": 31,
   "metadata": {},
   "outputs": [
    {
     "data": {
      "text/html": [
       "<div>\n",
       "<style scoped>\n",
       "    .dataframe tbody tr th:only-of-type {\n",
       "        vertical-align: middle;\n",
       "    }\n",
       "\n",
       "    .dataframe tbody tr th {\n",
       "        vertical-align: top;\n",
       "    }\n",
       "\n",
       "    .dataframe thead th {\n",
       "        text-align: right;\n",
       "    }\n",
       "</style>\n",
       "<table border=\"1\" class=\"dataframe\">\n",
       "  <thead>\n",
       "    <tr style=\"text-align: right;\">\n",
       "      <th></th>\n",
       "      <th>importance</th>\n",
       "    </tr>\n",
       "    <tr>\n",
       "      <th>feature</th>\n",
       "      <th></th>\n",
       "    </tr>\n",
       "  </thead>\n",
       "  <tbody>\n",
       "    <tr>\n",
       "      <th>DistFromSunParsec</th>\n",
       "      <td>0.186</td>\n",
       "    </tr>\n",
       "    <tr>\n",
       "      <th>HostStarMassSlrMass</th>\n",
       "      <td>0.146</td>\n",
       "    </tr>\n",
       "    <tr>\n",
       "      <th>SemiMajorAxisAU</th>\n",
       "      <td>0.145</td>\n",
       "    </tr>\n",
       "    <tr>\n",
       "      <th>PlanetaryMassJpt</th>\n",
       "      <td>0.123</td>\n",
       "    </tr>\n",
       "    <tr>\n",
       "      <th>PeriodDays</th>\n",
       "      <td>0.115</td>\n",
       "    </tr>\n",
       "    <tr>\n",
       "      <th>HostStarRadiusSlrRad</th>\n",
       "      <td>0.110</td>\n",
       "    </tr>\n",
       "    <tr>\n",
       "      <th>Eccentricity</th>\n",
       "      <td>0.096</td>\n",
       "    </tr>\n",
       "    <tr>\n",
       "      <th>RadiusJpt</th>\n",
       "      <td>0.079</td>\n",
       "    </tr>\n",
       "  </tbody>\n",
       "</table>\n",
       "</div>"
      ],
      "text/plain": [
       "                      importance\n",
       "feature                         \n",
       "DistFromSunParsec          0.186\n",
       "HostStarMassSlrMass        0.146\n",
       "SemiMajorAxisAU            0.145\n",
       "PlanetaryMassJpt           0.123\n",
       "PeriodDays                 0.115\n",
       "HostStarRadiusSlrRad       0.110\n",
       "Eccentricity               0.096\n",
       "RadiusJpt                  0.079"
      ]
     },
     "execution_count": 31,
     "metadata": {},
     "output_type": "execute_result"
    }
   ],
   "source": [
    "importances = pd.DataFrame({'feature':X_train.columns,'importance':np.round(random_forest.feature_importances_,3)})\n",
    "importances = importances.sort_values('importance',ascending=False).set_index('feature')\n",
    "importances.head(15)"
   ]
  },
  {
   "cell_type": "code",
   "execution_count": 32,
   "metadata": {},
   "outputs": [
    {
     "data": {
      "text/plain": [
       "<matplotlib.axes._subplots.AxesSubplot at 0x17d3086c470>"
      ]
     },
     "execution_count": 32,
     "metadata": {},
     "output_type": "execute_result"
    },
    {
     "data": {
      "image/png": "[encoded data removed]",
      "text/plain": [
       "<Figure size 432x288 with 1 Axes>"
      ]
     },
     "metadata": {
      "needs_background": "light"
     },
     "output_type": "display_data"
    }
   ],
   "source": [
    "importances.plot.bar()"
   ]
  },
  {
   "cell_type": "code",
   "execution_count": 33,
   "metadata": {},
   "outputs": [],
   "source": [
    "#we will drop the least important features and test the model again\n",
    "train_set  = train_set.drop(\"Eccentricity\", axis=1)\n",
    "test_set  = test_set.drop(\"Eccentricity\", axis=1)\n",
    "\n",
    "train_set  = train_set.drop(\"RadiusJpt\", axis=1)\n",
    "test_set  = test_set.drop(\"RadiusJpt\", axis=1)"
   ]
  },
  {
   "cell_type": "code",
   "execution_count": 34,
   "metadata": {},
   "outputs": [
    {
     "name": "stdout",
     "output_type": "stream",
     "text": [
      "100.0 %\n"
     ]
    }
   ],
   "source": [
    "random_forest = RandomForestClassifier(n_estimators=100, oob_score = True)\n",
    "random_forest.fit(X_train, Y_train)\n",
    "Y_prediction = random_forest.predict(X_test)\n",
    "\n",
    "random_forest.score(X_train, Y_train)\n",
    "\n",
    "acc_random_forest = round(random_forest.score(X_train, Y_train) * 100, 2)\n",
    "print(round(acc_random_forest,2,), \"%\")"
   ]
  },
  {
   "cell_type": "markdown",
   "metadata": {},
   "source": [
    "We see that the Random Forest classifier still has an impressive 100% accuracy. This is slightly suspicious and could use further validation and tests. As further work, synthetic data could be used to test the calssifiers again."
   ]
  }
 ],
 "metadata": {
  "kernelspec": {
   "display_name": "Python 3",
   "language": "python",
   "name": "python3"
  },
  "language_info": {
   "codemirror_mode": {
    "name": "ipython",
    "version": 3
   },
   "file_extension": ".py",
   "mimetype": "text/x-python",
   "name": "python",
   "nbconvert_exporter": "python",
   "pygments_lexer": "ipython3",
   "version": "3.7.0"
  }
 },
 "nbformat": 4,
 "nbformat_minor": 2
}
